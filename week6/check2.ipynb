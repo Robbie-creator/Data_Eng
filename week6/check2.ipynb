{
 "cells": [
  {
   "cell_type": "code",
   "execution_count": 42,
   "metadata": {},
   "outputs": [],
   "source": [
    "import pandas as pd\n",
    "from sklearn.metrics import mean_absolute_error, mean_squared_error, r2_score\n",
    "import numpy as np\n",
    "import joblib\n",
    "from sqlalchemy import create_engine"
   ]
  },
  {
   "cell_type": "code",
   "execution_count": null,
   "metadata": {},
   "outputs": [],
   "source": [
    "# Note:: The make sure you use the information from your specific PostgreSQL installation\n",
    "host = r'127.0.0.1' # denotes that the db in a local installation\n",
    "db = r'MSDS610' # db we just created\n",
    "user = r'postgres' # using the postgres user for this demo\n",
    "pw = r'racharya001' # this is the password established during installation\n",
    "port = r'5432' # default port estabalished during install"
   ]
  },
  {
   "cell_type": "code",
   "execution_count": 44,
   "metadata": {},
   "outputs": [],
   "source": [
    "db_conn = create_engine(\"postgresql://{}:{}@{}:{}/{}\".format(user, pw, host, port, db))"
   ]
  },
  {
   "cell_type": "code",
   "execution_count": 45,
   "metadata": {},
   "outputs": [],
   "source": [
    "table_name1 = r'x_cols'\n",
    "table_name2 = r'y_cols'\n",
    "schema = r'analytics' \n",
    "\n",
    "X_val = pd.read_sql_table(table_name1, db_conn, schema)\n",
    "y_val = pd.read_sql_table(table_name2, db_conn, schema)"
   ]
  },
  {
   "cell_type": "code",
   "execution_count": 46,
   "metadata": {},
   "outputs": [
    {
     "data": {
      "text/html": [
       "<div>\n",
       "<style scoped>\n",
       "    .dataframe tbody tr th:only-of-type {\n",
       "        vertical-align: middle;\n",
       "    }\n",
       "\n",
       "    .dataframe tbody tr th {\n",
       "        vertical-align: top;\n",
       "    }\n",
       "\n",
       "    .dataframe thead th {\n",
       "        text-align: right;\n",
       "    }\n",
       "</style>\n",
       "<table border=\"1\" class=\"dataframe\">\n",
       "  <thead>\n",
       "    <tr style=\"text-align: right;\">\n",
       "      <th></th>\n",
       "      <th>temp</th>\n",
       "      <th>atemp</th>\n",
       "      <th>hum</th>\n",
       "      <th>windspeed</th>\n",
       "      <th>hr_category</th>\n",
       "      <th>is_daytime</th>\n",
       "      <th>day_type_ind</th>\n",
       "      <th>cnt_lag1</th>\n",
       "      <th>cnt_rolling_3</th>\n",
       "      <th>cnt_rolling_6</th>\n",
       "    </tr>\n",
       "  </thead>\n",
       "  <tbody>\n",
       "    <tr>\n",
       "      <th>0</th>\n",
       "      <td>-1.074290</td>\n",
       "      <td>-1.095080</td>\n",
       "      <td>0.115321</td>\n",
       "      <td>0.039148</td>\n",
       "      <td>0.225928</td>\n",
       "      <td>0.768513</td>\n",
       "      <td>-0.650964</td>\n",
       "      <td>-0.525127</td>\n",
       "      <td>-0.262029</td>\n",
       "      <td>-0.793589</td>\n",
       "    </tr>\n",
       "    <tr>\n",
       "      <th>1</th>\n",
       "      <td>-1.074290</td>\n",
       "      <td>-1.095080</td>\n",
       "      <td>0.374070</td>\n",
       "      <td>0.005891</td>\n",
       "      <td>1.114521</td>\n",
       "      <td>-1.301215</td>\n",
       "      <td>-0.650964</td>\n",
       "      <td>-0.792908</td>\n",
       "      <td>-0.829945</td>\n",
       "      <td>-0.388120</td>\n",
       "    </tr>\n",
       "    <tr>\n",
       "      <th>2</th>\n",
       "      <td>-1.618431</td>\n",
       "      <td>-1.446408</td>\n",
       "      <td>-0.195177</td>\n",
       "      <td>-0.863948</td>\n",
       "      <td>0.225928</td>\n",
       "      <td>-1.301215</td>\n",
       "      <td>-0.650964</td>\n",
       "      <td>-1.016970</td>\n",
       "      <td>-1.071060</td>\n",
       "      <td>-1.242707</td>\n",
       "    </tr>\n",
       "    <tr>\n",
       "      <th>3</th>\n",
       "      <td>-0.094837</td>\n",
       "      <td>-0.041094</td>\n",
       "      <td>-1.230172</td>\n",
       "      <td>-0.863948</td>\n",
       "      <td>-0.662664</td>\n",
       "      <td>0.768513</td>\n",
       "      <td>-0.650964</td>\n",
       "      <td>0.906681</td>\n",
       "      <td>1.059122</td>\n",
       "      <td>1.380784</td>\n",
       "    </tr>\n",
       "    <tr>\n",
       "      <th>4</th>\n",
       "      <td>0.775788</td>\n",
       "      <td>0.574020</td>\n",
       "      <td>1.046817</td>\n",
       "      <td>0.297793</td>\n",
       "      <td>1.114521</td>\n",
       "      <td>-1.301215</td>\n",
       "      <td>1.234507</td>\n",
       "      <td>-0.383040</td>\n",
       "      <td>-0.266014</td>\n",
       "      <td>0.464170</td>\n",
       "    </tr>\n",
       "  </tbody>\n",
       "</table>\n",
       "</div>"
      ],
      "text/plain": [
       "       temp     atemp       hum  windspeed  hr_category  is_daytime  \\\n",
       "0 -1.074290 -1.095080  0.115321   0.039148     0.225928    0.768513   \n",
       "1 -1.074290 -1.095080  0.374070   0.005891     1.114521   -1.301215   \n",
       "2 -1.618431 -1.446408 -0.195177  -0.863948     0.225928   -1.301215   \n",
       "3 -0.094837 -0.041094 -1.230172  -0.863948    -0.662664    0.768513   \n",
       "4  0.775788  0.574020  1.046817   0.297793     1.114521   -1.301215   \n",
       "\n",
       "   day_type_ind  cnt_lag1  cnt_rolling_3  cnt_rolling_6  \n",
       "0     -0.650964 -0.525127      -0.262029      -0.793589  \n",
       "1     -0.650964 -0.792908      -0.829945      -0.388120  \n",
       "2     -0.650964 -1.016970      -1.071060      -1.242707  \n",
       "3     -0.650964  0.906681       1.059122       1.380784  \n",
       "4      1.234507 -0.383040      -0.266014       0.464170  "
      ]
     },
     "execution_count": 46,
     "metadata": {},
     "output_type": "execute_result"
    }
   ],
   "source": [
    "X_val.head()"
   ]
  },
  {
   "cell_type": "code",
   "execution_count": 47,
   "metadata": {},
   "outputs": [
    {
     "data": {
      "text/html": [
       "<div>\n",
       "<style scoped>\n",
       "    .dataframe tbody tr th:only-of-type {\n",
       "        vertical-align: middle;\n",
       "    }\n",
       "\n",
       "    .dataframe tbody tr th {\n",
       "        vertical-align: top;\n",
       "    }\n",
       "\n",
       "    .dataframe thead th {\n",
       "        text-align: right;\n",
       "    }\n",
       "</style>\n",
       "<table border=\"1\" class=\"dataframe\">\n",
       "  <thead>\n",
       "    <tr style=\"text-align: right;\">\n",
       "      <th></th>\n",
       "      <th>cnt</th>\n",
       "    </tr>\n",
       "  </thead>\n",
       "  <tbody>\n",
       "    <tr>\n",
       "      <th>0</th>\n",
       "      <td>321</td>\n",
       "    </tr>\n",
       "    <tr>\n",
       "      <th>1</th>\n",
       "      <td>23</td>\n",
       "    </tr>\n",
       "    <tr>\n",
       "      <th>2</th>\n",
       "      <td>26</td>\n",
       "    </tr>\n",
       "    <tr>\n",
       "      <th>3</th>\n",
       "      <td>300</td>\n",
       "    </tr>\n",
       "    <tr>\n",
       "      <th>4</th>\n",
       "      <td>105</td>\n",
       "    </tr>\n",
       "  </tbody>\n",
       "</table>\n",
       "</div>"
      ],
      "text/plain": [
       "   cnt\n",
       "0  321\n",
       "1   23\n",
       "2   26\n",
       "3  300\n",
       "4  105"
      ]
     },
     "execution_count": 47,
     "metadata": {},
     "output_type": "execute_result"
    }
   ],
   "source": [
    "y_val.head()"
   ]
  },
  {
   "cell_type": "code",
   "execution_count": 48,
   "metadata": {},
   "outputs": [],
   "source": [
    "# Convert y_val to a 1D array\n",
    "y_val = y_val.iloc[:, 0]  \n",
    "y_val = y_val.values.flatten()  # Ensures it's a NumPy 1D array"
   ]
  },
  {
   "cell_type": "markdown",
   "metadata": {},
   "source": [
    "Here, we are going to load the saved XGBoost model which gave us the best accuracy in prevoius file."
   ]
  },
  {
   "cell_type": "code",
   "execution_count": 49,
   "metadata": {},
   "outputs": [],
   "source": [
    "# Load the saved model\n",
    "loaded_model = joblib.load(\"assign_rf_model.joblib\")"
   ]
  },
  {
   "cell_type": "code",
   "execution_count": 50,
   "metadata": {},
   "outputs": [],
   "source": [
    "\n",
    "# Generate predictions\n",
    "y_val_pred = loaded_model.predict(X_val)"
   ]
  },
  {
   "cell_type": "code",
   "execution_count": 51,
   "metadata": {},
   "outputs": [],
   "source": [
    "# Calculate regression metrics\n",
    "mae = mean_absolute_error(y_val, y_val_pred)\n",
    "mse = mean_squared_error(y_val, y_val_pred)\n",
    "r2 = r2_score(y_val, y_val_pred)"
   ]
  },
  {
   "cell_type": "code",
   "execution_count": 52,
   "metadata": {},
   "outputs": [
    {
     "name": "stdout",
     "output_type": "stream",
     "text": [
      "Mean Absolute Error (MAE): 22.44\n",
      "Mean Squared Error (MSE): 1395.44\n",
      "R² Score: 0.9560\n",
      "Mean Absolute Percentage Error (MAPE): 26.91%\n",
      "Estimated Accuracy: 73.09%\n"
     ]
    }
   ],
   "source": [
    "# Fix MAPE calculation using np.where\n",
    "mape = (np.abs(y_val - y_val_pred) / np.where(y_val == 0, 1e-5, y_val)).mean() * 100\n",
    "accuracy = 100 - mape  # Estimated accuracy\n",
    "\n",
    "# Print results\n",
    "print(f\"Mean Absolute Error (MAE): {mae:.2f}\")\n",
    "print(f\"Mean Squared Error (MSE): {mse:.2f}\")\n",
    "print(f\"R² Score: {r2:.4f}\")\n",
    "print(f\"Mean Absolute Percentage Error (MAPE): {mape:.2f}%\")\n",
    "print(f\"Estimated Accuracy: {accuracy:.2f}%\")"
   ]
  },
  {
   "cell_type": "markdown",
   "metadata": {},
   "source": [
    "So, finally we loaded the model and validated in this file. SO, in previous file we took 3 different features and validated with three different models and we considered the XGBoost model from our initial feature list which provided the best result for validation.</br>\n",
    "\n",
    "We used the same model here and got a quite impressive result which is discussed below on brief.\n",
    "The Mean Absolute Error (MAE) of 22.44 indicates that, on average, the model's predictions deviate by 22.44 units from actual values. The Mean Squared Error (MSE) of 1395.44 shows the squared differences between predictions and actual values, penalizing larger errors more. The R² Score of 0.9560 means the model explains 95.60% of the variance, indicating a strong fit. The Mean Absolute Percentage Error (MAPE) of 26.91% suggests that predictions are, on average, 26.91% off from true values. With an Estimated Accuracy of 73.09%, the model performs well, providing reliable predictions with minimal error.</br>\n",
    "So, we can say from this analalysis that the features we made while working on data engineering could help us predict the ongoing demand. Both weather and prevoius hour demand affect the current demand of the market. "
   ]
  }
 ],
 "metadata": {
  "kernelspec": {
   "display_name": "base",
   "language": "python",
   "name": "python3"
  },
  "language_info": {
   "codemirror_mode": {
    "name": "ipython",
    "version": 3
   },
   "file_extension": ".py",
   "mimetype": "text/x-python",
   "name": "python",
   "nbconvert_exporter": "python",
   "pygments_lexer": "ipython3",
   "version": "3.12.4"
  }
 },
 "nbformat": 4,
 "nbformat_minor": 2
}
